{
 "cells": [
  {
   "cell_type": "code",
   "execution_count": 1,
   "metadata": {},
   "outputs": [],
   "source": [
    "from dataclasses import dataclass\n",
    "from pathlib import Path\n",
    "@dataclass(frozen=True)\n",
    "class DataIngest:\n",
    "    root:Path\n",
    "    source:str\n",
    "    zipdir:Path\n",
    "    unzipdir:Path"
   ]
  },
  {
   "cell_type": "code",
   "execution_count": 2,
   "metadata": {},
   "outputs": [],
   "source": [
    "from ml_project.constants import *\n",
    "from ml_project.utils.com import read_yml, create_dir"
   ]
  },
  {
   "cell_type": "code",
   "execution_count": 3,
   "metadata": {},
   "outputs": [],
   "source": [
    "class ConfigurationManager:\n",
    "    def __init__(\n",
    "            self,\n",
    "            conf = CONFIG_PATH,\n",
    "            sche = SCHEMA_PATH,\n",
    "            param = PARAMS_PATH):\n",
    "        self.conf = read_yml(conf)\n",
    "        self.sche = read_yml(sche)\n",
    "        self.param = read_yml(param)\n",
    "\n",
    "        create_dir([self.conf.artifact_root])\n",
    "\n",
    "    def get_ingestion_conf(self) -> DataIngest:\n",
    "        config = self.conf.data_ingestion\n",
    "\n",
    "        create_dir([config.rootdir])\n",
    "\n",
    "        data_ingest_config = DataIngest(\n",
    "            root=config.rootdir,\n",
    "            source=config.url,\n",
    "            zipdir=config.localdir,\n",
    "            unzipdir=config.unzipdir\n",
    "        )\n",
    "\n",
    "        return data_ingest_config\n"
   ]
  },
  {
   "cell_type": "code",
   "execution_count": null,
   "metadata": {},
   "outputs": [],
   "source": [
    "import urllib\n",
    "from ml_project import logger\n",
    "import zipfile\n",
    "import os"
   ]
  },
  {
   "cell_type": "code",
   "execution_count": 27,
   "metadata": {},
   "outputs": [],
   "source": [
    "import urllib.request\n",
    "\n",
    "\n",
    "class DataToIngested:\n",
    "    def __init__(self, config: DataIngest):\n",
    "        self.config=config\n",
    "\n",
    "    def download(self):\n",
    "        if not os.path.exists(self.config.zipdir):\n",
    "                fname, fhead = urllib.request.urlretrieve(\n",
    "                     url=self.config.source,\n",
    "                     filename=self.config.zipdir\n",
    "                )\n",
    "                logger.info(f'the file {fname} has been downloaded into {self.config.zipdir}')\n",
    "        else:\n",
    "             logger.info(f'unable to download the file')\n",
    "\n",
    "    def extract(self):\n",
    "         unzip_path = self.config.unzipdir\n",
    "         os.makedirs(unzip_path, exist_ok=True)\n",
    "         \n",
    "         with zipfile.ZipFile(self.config.zipdir, 'r') as z:\n",
    "              z.extractall(unzip_path)\n",
    "                "
   ]
  },
  {
   "cell_type": "code",
   "execution_count": 28,
   "metadata": {},
   "outputs": [
    {
     "name": "stdout",
     "output_type": "stream",
     "text": [
      "[2025-01-24 07:11:21,017 : INFO :com : loaded the yaml file from <_io.TextIOWrapper name='config\\\\config.yaml' mode='r' encoding='UTF-8'>]\n",
      "[2025-01-24 07:11:21,020 : INFO :com : loaded the yaml file from <_io.TextIOWrapper name='schema.yaml' mode='r' encoding='UTF-8'>]\n",
      "[2025-01-24 07:11:21,022 : INFO :com : loaded the yaml file from <_io.TextIOWrapper name='params.yaml' mode='r' encoding='UTF-8'>]\n",
      "[2025-01-24 07:11:21,024 : INFO :com : created the file artifact]\n",
      "[2025-01-24 07:11:21,026 : INFO :com : created the file artifacts/data_ingestion]\n",
      "[2025-01-24 07:11:23,349 : INFO :915750208 : the file artifacts/data_ingestion/data.zip has been downloaded into artifacts/data_ingestion/data.zip]\n"
     ]
    }
   ],
   "source": [
    "try:\n",
    "    configuaration = ConfigurationManager()\n",
    "    ingest_config = configuaration.get_ingestion_conf()\n",
    "    data_ingestion = DataToIngested(config=ingest_config)\n",
    "    data_ingestion.download()\n",
    "    data_ingestion.extract()\n",
    "\n",
    "except Exception as e:\n",
    "    raise e"
   ]
  },
  {
   "cell_type": "code",
   "execution_count": null,
   "metadata": {},
   "outputs": [],
   "source": []
  }
 ],
 "metadata": {
  "kernelspec": {
   "display_name": "mlflow-venv",
   "language": "python",
   "name": "python3"
  },
  "language_info": {
   "codemirror_mode": {
    "name": "ipython",
    "version": 3
   },
   "file_extension": ".py",
   "mimetype": "text/x-python",
   "name": "python",
   "nbconvert_exporter": "python",
   "pygments_lexer": "ipython3",
   "version": "3.10.14"
  }
 },
 "nbformat": 4,
 "nbformat_minor": 2
}
